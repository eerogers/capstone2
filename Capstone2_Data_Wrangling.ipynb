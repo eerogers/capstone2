{
 "cells": [
  {
   "cell_type": "code",
   "execution_count": 39,
   "metadata": {},
   "outputs": [],
   "source": [
    "import pandas as pd\n",
    "import matplotlib.pyplot as plt\n",
    "data = pd.read_csv('phishing_data.csv')"
   ]
  },
  {
   "cell_type": "code",
   "execution_count": 82,
   "metadata": {},
   "outputs": [
    {
     "name": "stdout",
     "output_type": "stream",
     "text": [
      "                id  NumDots  SubdomainLevel  PathLevel  UrlLength  NumDash  \\\n",
      "CLASS_LABEL                                                                  \n",
      "1                1        3               1          5         72        0   \n",
      "1                2        3               1          3        144        0   \n",
      "1                3        3               1          2         58        0   \n",
      "1                4        3               1          6         79        1   \n",
      "1                5        3               0          4         46        0   \n",
      "...            ...      ...             ...        ...        ...      ...   \n",
      "0             9996        3               1          1         50        0   \n",
      "0             9997        2               1          4         59        1   \n",
      "0             9998        2               1          4         57        0   \n",
      "0             9999        3               1          1         49        0   \n",
      "0            10000        3               1          2         52        3   \n",
      "\n",
      "             NumDashInHostname  AtSymbol  TildeSymbol  NumUnderscore  ...  \\\n",
      "CLASS_LABEL                                                           ...   \n",
      "1                            0         0            0              0  ...   \n",
      "1                            0         0            0              2  ...   \n",
      "1                            0         0            0              0  ...   \n",
      "1                            0         0            0              0  ...   \n",
      "1                            0         0            0              0  ...   \n",
      "...                        ...       ...          ...            ...  ...   \n",
      "0                            0         0            0              0  ...   \n",
      "0                            0         0            0              0  ...   \n",
      "0                            0         0            0              0  ...   \n",
      "0                            0         0            0              0  ...   \n",
      "0                            0         0            0              0  ...   \n",
      "\n",
      "             SubmitInfoToEmail  IframeOrFrame  MissingTitle  ImagesOnlyInForm  \\\n",
      "CLASS_LABEL                                                                     \n",
      "1                            0              0             0                 1   \n",
      "1                            0              0             0                 0   \n",
      "1                            0              0             0                 0   \n",
      "1                            1              0             0                 0   \n",
      "1                            0              1             0                 0   \n",
      "...                        ...            ...           ...               ...   \n",
      "0                            0              0             0                 0   \n",
      "0                            0              1             0                 0   \n",
      "0                            0              0             0                 0   \n",
      "0                            0              1             0                 0   \n",
      "0                            0              0             0                 0   \n",
      "\n",
      "             SubdomainLevelRT  UrlLengthRT  PctExtResourceUrlsRT  \\\n",
      "CLASS_LABEL                                                        \n",
      "1                           1            0                     1   \n",
      "1                           1           -1                     1   \n",
      "1                           1            0                    -1   \n",
      "1                           1           -1                     1   \n",
      "1                           1            1                    -1   \n",
      "...                       ...          ...                   ...   \n",
      "0                           1            1                    -1   \n",
      "0                           1            0                     0   \n",
      "0                           1            0                     1   \n",
      "0                           1            1                     0   \n",
      "0                           1            1                     1   \n",
      "\n",
      "             AbnormalExtFormActionR  ExtMetaScriptLinkRT  \\\n",
      "CLASS_LABEL                                                \n",
      "1                                 1                   -1   \n",
      "1                                 1                    1   \n",
      "1                                 1                   -1   \n",
      "1                                 1                    1   \n",
      "1                                 0                   -1   \n",
      "...                             ...                  ...   \n",
      "0                                 1                    0   \n",
      "0                                 1                    0   \n",
      "0                                 1                    0   \n",
      "0                                 1                    0   \n",
      "0                                 1                    1   \n",
      "\n",
      "             PctExtNullSelfRedirectHyperlinksRT  \n",
      "CLASS_LABEL                                      \n",
      "1                                             1  \n",
      "1                                             1  \n",
      "1                                             0  \n",
      "1                                            -1  \n",
      "1                                            -1  \n",
      "...                                         ...  \n",
      "0                                             1  \n",
      "0                                             1  \n",
      "0                                             1  \n",
      "0                                             1  \n",
      "0                                             1  \n",
      "\n",
      "[10000 rows x 49 columns]\n",
      "Index(['id', 'NumDots', 'SubdomainLevel', 'PathLevel', 'UrlLength', 'NumDash',\n",
      "       'NumDashInHostname', 'AtSymbol', 'TildeSymbol', 'NumUnderscore',\n",
      "       'NumPercent', 'NumQueryComponents', 'NumAmpersand', 'NumHash',\n",
      "       'NumNumericChars', 'NoHttps', 'RandomString', 'IpAddress',\n",
      "       'DomainInSubdomains', 'DomainInPaths', 'HttpsInHostname',\n",
      "       'HostnameLength', 'PathLength', 'QueryLength', 'DoubleSlashInPath',\n",
      "       'NumSensitiveWords', 'EmbeddedBrandName', 'PctExtHyperlinks',\n",
      "       'PctExtResourceUrls', 'ExtFavicon', 'InsecureForms',\n",
      "       'RelativeFormAction', 'ExtFormAction', 'AbnormalFormAction',\n",
      "       'PctNullSelfRedirectHyperlinks', 'FrequentDomainNameMismatch',\n",
      "       'FakeLinkInStatusBar', 'RightClickDisabled', 'PopUpWindow',\n",
      "       'SubmitInfoToEmail', 'IframeOrFrame', 'MissingTitle',\n",
      "       'ImagesOnlyInForm', 'SubdomainLevelRT', 'UrlLengthRT',\n",
      "       'PctExtResourceUrlsRT', 'AbnormalExtFormActionR', 'ExtMetaScriptLinkRT',\n",
      "       'PctExtNullSelfRedirectHyperlinksRT', 'CLASS_LABEL'],\n",
      "      dtype='object')\n",
      "                 id      NumDots  SubdomainLevel    PathLevel    UrlLength  \\\n",
      "count   5000.000000  5000.000000      5000.00000  5000.000000  5000.000000   \n",
      "mean    7500.500000     2.049000         0.55440     2.872800    72.749800   \n",
      "std     1443.520003     0.980608         0.55091     1.842091    30.837837   \n",
      "min     5001.000000     1.000000         0.00000     0.000000    12.000000   \n",
      "25%     6250.750000     1.000000         0.00000     2.000000    51.000000   \n",
      "50%     7500.500000     2.000000         1.00000     3.000000    68.000000   \n",
      "75%     8750.250000     3.000000         1.00000     4.000000    90.000000   \n",
      "max    10000.000000    21.000000         4.00000    18.000000   218.000000   \n",
      "\n",
      "           NumDash  NumDashInHostname    AtSymbol  TildeSymbol  NumUnderscore  \\\n",
      "count  5000.000000        5000.000000  5000.00000  5000.000000    5000.000000   \n",
      "mean      2.974200           0.056800     0.00060     0.002200       0.433400   \n",
      "std       3.883987           0.268306     0.02449     0.046857       1.314652   \n",
      "min       0.000000           0.000000     0.00000     0.000000       0.000000   \n",
      "25%       0.000000           0.000000     0.00000     0.000000       0.000000   \n",
      "50%       1.000000           0.000000     0.00000     0.000000       0.000000   \n",
      "75%       5.000000           0.000000     0.00000     0.000000       0.000000   \n",
      "max      55.000000           5.000000     1.00000     1.000000      18.000000   \n",
      "\n",
      "       ...  IframeOrFrame  MissingTitle  ImagesOnlyInForm  SubdomainLevelRT  \\\n",
      "count  ...    5000.000000   5000.000000       5000.000000       5000.000000   \n",
      "mean   ...       0.451000      0.011600          0.030600          0.975400   \n",
      "std    ...       0.497643      0.107088          0.172249          0.163708   \n",
      "min    ...       0.000000      0.000000          0.000000         -1.000000   \n",
      "25%    ...       0.000000      0.000000          0.000000          1.000000   \n",
      "50%    ...       0.000000      0.000000          0.000000          1.000000   \n",
      "75%    ...       1.000000      0.000000          0.000000          1.000000   \n",
      "max    ...       1.000000      1.000000          1.000000          1.000000   \n",
      "\n",
      "       UrlLengthRT  PctExtResourceUrlsRT  AbnormalExtFormActionR  \\\n",
      "count  5000.000000           5000.000000             5000.000000   \n",
      "mean     -0.118800              0.307000                0.696400   \n",
      "std       0.821232              0.870691                0.621212   \n",
      "min      -1.000000             -1.000000               -1.000000   \n",
      "25%      -1.000000             -1.000000                1.000000   \n",
      "50%       0.000000              1.000000                1.000000   \n",
      "75%       1.000000              1.000000                1.000000   \n",
      "max       1.000000              1.000000                1.000000   \n",
      "\n",
      "       ExtMetaScriptLinkRT  PctExtNullSelfRedirectHyperlinksRT  CLASS_LABEL  \n",
      "count          5000.000000                         5000.000000       5000.0  \n",
      "mean              0.089400                            0.799400          0.0  \n",
      "std               0.601565                            0.455633          0.0  \n",
      "min              -1.000000                           -1.000000          0.0  \n",
      "25%               0.000000                            1.000000          0.0  \n",
      "50%               0.000000                            1.000000          0.0  \n",
      "75%               0.000000                            1.000000          0.0  \n",
      "max               1.000000                            1.000000          0.0  \n",
      "\n",
      "[8 rows x 50 columns]\n",
      "                id      NumDots  SubdomainLevel    PathLevel   UrlLength  \\\n",
      "count  5000.000000  5000.000000     5000.000000  5000.000000  5000.00000   \n",
      "mean   2500.500000     2.841200        0.619200     3.727800    67.77840   \n",
      "std    1443.520003     1.533901        0.907279     1.784697    35.55261   \n",
      "min       1.000000     1.000000        0.000000     0.000000    19.00000   \n",
      "25%    1250.750000     2.000000        0.000000     3.000000    46.00000   \n",
      "50%    2500.500000     3.000000        1.000000     3.000000    58.00000   \n",
      "75%    3750.250000     3.000000        1.000000     5.000000    75.00000   \n",
      "max    5000.000000    16.000000       14.000000    15.000000   253.00000   \n",
      "\n",
      "           NumDash  NumDashInHostname  AtSymbol  TildeSymbol  NumUnderscore  \\\n",
      "count  5000.000000        5000.000000    5000.0  5000.000000    5000.000000   \n",
      "mean      0.661800           0.221000       0.0     0.024000       0.213000   \n",
      "std       1.241019           0.714326       0.0     0.153064       0.855907   \n",
      "min       0.000000           0.000000       0.0     0.000000       0.000000   \n",
      "25%       0.000000           0.000000       0.0     0.000000       0.000000   \n",
      "50%       0.000000           0.000000       0.0     0.000000       0.000000   \n",
      "75%       1.000000           0.000000       0.0     0.000000       0.000000   \n",
      "max      20.000000           9.000000       0.0     1.000000      12.000000   \n",
      "\n",
      "       ...  IframeOrFrame  MissingTitle  ImagesOnlyInForm  SubdomainLevelRT  \\\n",
      "count  ...    5000.000000   5000.000000       5000.000000       5000.000000   \n",
      "mean   ...       0.228200      0.052800          0.030200          0.937800   \n",
      "std    ...       0.419714      0.223656          0.171154          0.309112   \n",
      "min    ...       0.000000      0.000000          0.000000         -1.000000   \n",
      "25%    ...       0.000000      0.000000          0.000000          1.000000   \n",
      "50%    ...       0.000000      0.000000          0.000000          1.000000   \n",
      "75%    ...       0.000000      0.000000          0.000000          1.000000   \n",
      "max    ...       1.000000      1.000000          1.000000          1.000000   \n",
      "\n",
      "       UrlLengthRT  PctExtResourceUrlsRT  AbnormalExtFormActionR  \\\n",
      "count  5000.000000            5000.00000             5000.000000   \n",
      "mean      0.159200               0.39960                0.890000   \n",
      "std       0.794973               0.90448                0.371924   \n",
      "min      -1.000000              -1.00000               -1.000000   \n",
      "25%       0.000000              -1.00000                1.000000   \n",
      "50%       0.000000               1.00000                1.000000   \n",
      "75%       1.000000               1.00000                1.000000   \n",
      "max       1.000000               1.00000                1.000000   \n",
      "\n",
      "       ExtMetaScriptLinkRT  PctExtNullSelfRedirectHyperlinksRT  CLASS_LABEL  \n",
      "count          5000.000000                          5000.00000       5000.0  \n",
      "mean              0.257400                            -0.17120          1.0  \n",
      "std               0.875499                             0.96627          0.0  \n",
      "min              -1.000000                            -1.00000          1.0  \n",
      "25%              -1.000000                            -1.00000          1.0  \n",
      "50%               1.000000                            -1.00000          1.0  \n",
      "75%               1.000000                             1.00000          1.0  \n",
      "max               1.000000                             1.00000          1.0  \n",
      "\n",
      "[8 rows x 50 columns]\n",
      "<class 'pandas.core.frame.DataFrame'>\n",
      "Int64Index: 5000 entries, 5000 to 9999\n",
      "Data columns (total 50 columns):\n",
      " #   Column                              Non-Null Count  Dtype  \n",
      "---  ------                              --------------  -----  \n",
      " 0   id                                  5000 non-null   int64  \n",
      " 1   NumDots                             5000 non-null   int64  \n",
      " 2   SubdomainLevel                      5000 non-null   int64  \n",
      " 3   PathLevel                           5000 non-null   int64  \n",
      " 4   UrlLength                           5000 non-null   int64  \n",
      " 5   NumDash                             5000 non-null   int64  \n",
      " 6   NumDashInHostname                   5000 non-null   int64  \n",
      " 7   AtSymbol                            5000 non-null   int64  \n",
      " 8   TildeSymbol                         5000 non-null   int64  \n",
      " 9   NumUnderscore                       5000 non-null   int64  \n",
      " 10  NumPercent                          5000 non-null   int64  \n",
      " 11  NumQueryComponents                  5000 non-null   int64  \n",
      " 12  NumAmpersand                        5000 non-null   int64  \n",
      " 13  NumHash                             5000 non-null   int64  \n",
      " 14  NumNumericChars                     5000 non-null   int64  \n",
      " 15  NoHttps                             5000 non-null   int64  \n",
      " 16  RandomString                        5000 non-null   int64  \n",
      " 17  IpAddress                           5000 non-null   int64  \n",
      " 18  DomainInSubdomains                  5000 non-null   int64  \n",
      " 19  DomainInPaths                       5000 non-null   int64  \n",
      " 20  HttpsInHostname                     5000 non-null   int64  \n",
      " 21  HostnameLength                      5000 non-null   int64  \n",
      " 22  PathLength                          5000 non-null   int64  \n",
      " 23  QueryLength                         5000 non-null   int64  \n",
      " 24  DoubleSlashInPath                   5000 non-null   int64  \n",
      " 25  NumSensitiveWords                   5000 non-null   int64  \n",
      " 26  EmbeddedBrandName                   5000 non-null   int64  \n",
      " 27  PctExtHyperlinks                    5000 non-null   float64\n",
      " 28  PctExtResourceUrls                  5000 non-null   float64\n",
      " 29  ExtFavicon                          5000 non-null   int64  \n",
      " 30  InsecureForms                       5000 non-null   int64  \n",
      " 31  RelativeFormAction                  5000 non-null   int64  \n",
      " 32  ExtFormAction                       5000 non-null   int64  \n",
      " 33  AbnormalFormAction                  5000 non-null   int64  \n",
      " 34  PctNullSelfRedirectHyperlinks       5000 non-null   float64\n",
      " 35  FrequentDomainNameMismatch          5000 non-null   int64  \n",
      " 36  FakeLinkInStatusBar                 5000 non-null   int64  \n",
      " 37  RightClickDisabled                  5000 non-null   int64  \n",
      " 38  PopUpWindow                         5000 non-null   int64  \n",
      " 39  SubmitInfoToEmail                   5000 non-null   int64  \n",
      " 40  IframeOrFrame                       5000 non-null   int64  \n",
      " 41  MissingTitle                        5000 non-null   int64  \n",
      " 42  ImagesOnlyInForm                    5000 non-null   int64  \n",
      " 43  SubdomainLevelRT                    5000 non-null   int64  \n",
      " 44  UrlLengthRT                         5000 non-null   int64  \n",
      " 45  PctExtResourceUrlsRT                5000 non-null   int64  \n",
      " 46  AbnormalExtFormActionR              5000 non-null   int64  \n",
      " 47  ExtMetaScriptLinkRT                 5000 non-null   int64  \n",
      " 48  PctExtNullSelfRedirectHyperlinksRT  5000 non-null   int64  \n",
      " 49  CLASS_LABEL                         5000 non-null   int64  \n",
      "dtypes: float64(3), int64(47)\n",
      "memory usage: 1.9 MB\n",
      "None\n",
      "<class 'pandas.core.frame.DataFrame'>\n",
      "Int64Index: 5000 entries, 0 to 4999\n",
      "Data columns (total 50 columns):\n",
      " #   Column                              Non-Null Count  Dtype  \n",
      "---  ------                              --------------  -----  \n",
      " 0   id                                  5000 non-null   int64  \n",
      " 1   NumDots                             5000 non-null   int64  \n",
      " 2   SubdomainLevel                      5000 non-null   int64  \n",
      " 3   PathLevel                           5000 non-null   int64  \n",
      " 4   UrlLength                           5000 non-null   int64  \n",
      " 5   NumDash                             5000 non-null   int64  \n",
      " 6   NumDashInHostname                   5000 non-null   int64  \n",
      " 7   AtSymbol                            5000 non-null   int64  \n",
      " 8   TildeSymbol                         5000 non-null   int64  \n",
      " 9   NumUnderscore                       5000 non-null   int64  \n",
      " 10  NumPercent                          5000 non-null   int64  \n",
      " 11  NumQueryComponents                  5000 non-null   int64  \n",
      " 12  NumAmpersand                        5000 non-null   int64  \n",
      " 13  NumHash                             5000 non-null   int64  \n",
      " 14  NumNumericChars                     5000 non-null   int64  \n",
      " 15  NoHttps                             5000 non-null   int64  \n",
      " 16  RandomString                        5000 non-null   int64  \n",
      " 17  IpAddress                           5000 non-null   int64  \n",
      " 18  DomainInSubdomains                  5000 non-null   int64  \n",
      " 19  DomainInPaths                       5000 non-null   int64  \n",
      " 20  HttpsInHostname                     5000 non-null   int64  \n",
      " 21  HostnameLength                      5000 non-null   int64  \n",
      " 22  PathLength                          5000 non-null   int64  \n",
      " 23  QueryLength                         5000 non-null   int64  \n",
      " 24  DoubleSlashInPath                   5000 non-null   int64  \n",
      " 25  NumSensitiveWords                   5000 non-null   int64  \n",
      " 26  EmbeddedBrandName                   5000 non-null   int64  \n",
      " 27  PctExtHyperlinks                    5000 non-null   float64\n",
      " 28  PctExtResourceUrls                  5000 non-null   float64\n",
      " 29  ExtFavicon                          5000 non-null   int64  \n",
      " 30  InsecureForms                       5000 non-null   int64  \n",
      " 31  RelativeFormAction                  5000 non-null   int64  \n",
      " 32  ExtFormAction                       5000 non-null   int64  \n",
      " 33  AbnormalFormAction                  5000 non-null   int64  \n",
      " 34  PctNullSelfRedirectHyperlinks       5000 non-null   float64\n",
      " 35  FrequentDomainNameMismatch          5000 non-null   int64  \n",
      " 36  FakeLinkInStatusBar                 5000 non-null   int64  \n",
      " 37  RightClickDisabled                  5000 non-null   int64  \n",
      " 38  PopUpWindow                         5000 non-null   int64  \n",
      " 39  SubmitInfoToEmail                   5000 non-null   int64  \n",
      " 40  IframeOrFrame                       5000 non-null   int64  \n",
      " 41  MissingTitle                        5000 non-null   int64  \n",
      " 42  ImagesOnlyInForm                    5000 non-null   int64  \n",
      " 43  SubdomainLevelRT                    5000 non-null   int64  \n",
      " 44  UrlLengthRT                         5000 non-null   int64  \n",
      " 45  PctExtResourceUrlsRT                5000 non-null   int64  \n",
      " 46  AbnormalExtFormActionR              5000 non-null   int64  \n",
      " 47  ExtMetaScriptLinkRT                 5000 non-null   int64  \n",
      " 48  PctExtNullSelfRedirectHyperlinksRT  5000 non-null   int64  \n",
      " 49  CLASS_LABEL                         5000 non-null   int64  \n",
      "dtypes: float64(3), int64(47)\n",
      "memory usage: 1.9 MB\n",
      "None\n"
     ]
    }
   ],
   "source": [
    "class1 = data[data['CLASS_LABEL'] == 0] #Class one, I believe, describes phishing websites; '0' corresponds to \n",
    "#'False' and the original csv was named 'Legitimate websites' - This is my reasoning\n",
    "class2 = data[data['CLASS_LABEL'] == 1]\n",
    "labels = data.columns\n",
    "class_index = data.set_index('CLASS_LABEL')\n",
    "print(class_index)\n",
    "print(labels)\n",
    "print(class1.describe())\n",
    "print(class2.describe())\n",
    "print(class1.info())\n",
    "print(class2.info())\n",
    "#There don't appear to be any null values and most columns are ints, some are floats (largely those that are\n",
    "#percentages)"
   ]
  },
  {
   "cell_type": "code",
   "execution_count": 55,
   "metadata": {},
   "outputs": [
    {
     "data": {
      "text/plain": [
       "<AxesSubplot:ylabel='Frequency'>"
      ]
     },
     "execution_count": 55,
     "metadata": {},
     "output_type": "execute_result"
    },
    {
     "data": {
      "image/png": "[encoded data removed]",
      "text/plain": [
       "<Figure size 432x288 with 1 Axes>"
      ]
     },
     "metadata": {
      "needs_background": "light"
     },
     "output_type": "display_data"
    }
   ],
   "source": [
    "class1['NumDots'].plot.hist()\n",
    "class2['NumDots'].plot.hist()"
   ]
  },
  {
   "cell_type": "code",
   "execution_count": 57,
   "metadata": {},
   "outputs": [
    {
     "data": {
      "text/plain": [
       "<AxesSubplot:ylabel='Frequency'>"
      ]
     },
     "execution_count": 57,
     "metadata": {},
     "output_type": "execute_result"
    },
    {
     "data": {
      "image/png": "[encoded data removed]",
      "text/plain": [
       "<Figure size 432x288 with 1 Axes>"
      ]
     },
     "metadata": {
      "needs_background": "light"
     },
     "output_type": "display_data"
    }
   ],
   "source": [
    "class1['SubdomainLevel'].plot.hist()"
   ]
  },
  {
   "cell_type": "code",
   "execution_count": 58,
   "metadata": {},
   "outputs": [
    {
     "data": {
      "text/plain": [
       "<AxesSubplot:ylabel='Frequency'>"
      ]
     },
     "execution_count": 58,
     "metadata": {},
     "output_type": "execute_result"
    },
    {
     "data": {
      "image/png": "[encoded data removed]",
      "text/plain": [
       "<Figure size 432x288 with 1 Axes>"
      ]
     },
     "metadata": {
      "needs_background": "light"
     },
     "output_type": "display_data"
    }
   ],
   "source": [
    "class2['SubdomainLevel'].plot.hist()"
   ]
  },
  {
   "cell_type": "code",
   "execution_count": 59,
   "metadata": {},
   "outputs": [
    {
     "data": {
      "text/plain": [
       "<AxesSubplot:ylabel='Frequency'>"
      ]
     },
     "execution_count": 59,
     "metadata": {},
     "output_type": "execute_result"
    },
    {
     "data": {
      "image/png": "[encoded data removed]",
      "text/plain": [
       "<Figure size 432x288 with 1 Axes>"
      ]
     },
     "metadata": {
      "needs_background": "light"
     },
     "output_type": "display_data"
    }
   ],
   "source": [
    "class1['PathLevel'].plot.hist()"
   ]
  },
  {
   "cell_type": "code",
   "execution_count": 60,
   "metadata": {},
   "outputs": [
    {
     "data": {
      "text/plain": [
       "<AxesSubplot:ylabel='Frequency'>"
      ]
     },
     "execution_count": 60,
     "metadata": {},
     "output_type": "execute_result"
    },
    {
     "data": {
      "image/png": "[encoded data removed]",
      "text/plain": [
       "<Figure size 432x288 with 1 Axes>"
      ]
     },
     "metadata": {
      "needs_background": "light"
     },
     "output_type": "display_data"
    }
   ],
   "source": [
    "class2['PathLevel'].plot.hist()"
   ]
  },
  {
   "cell_type": "code",
   "execution_count": 62,
   "metadata": {},
   "outputs": [
    {
     "data": {
      "text/plain": [
       "<AxesSubplot:ylabel='Frequency'>"
      ]
     },
     "execution_count": 62,
     "metadata": {},
     "output_type": "execute_result"
    },
    {
     "data": {
      "image/png": "[encoded data removed]",
      "text/plain": [
       "<Figure size 432x288 with 1 Axes>"
      ]
     },
     "metadata": {
      "needs_background": "light"
     },
     "output_type": "display_data"
    }
   ],
   "source": [
    "class1['UrlLength'].plot.hist()\n",
    "class2['UrlLength'].plot.hist()\n",
    "#In a few histographs of columns, comparing class1 with class2, there are already some clear differences between\n",
    "#the sets of website. It seems like it will be possible, from a data comparison, to determine to which category\n",
    "#a given website more than likely belongs."
   ]
  },
  {
   "cell_type": "code",
   "execution_count": 74,
   "metadata": {},
   "outputs": [
    {
     "data": {
      "text/plain": [
       "count    5000.00000\n",
       "mean        0.00060\n",
       "std         0.02449\n",
       "min         0.00000\n",
       "25%         0.00000\n",
       "50%         0.00000\n",
       "75%         0.00000\n",
       "max         1.00000\n",
       "Name: AtSymbol, dtype: float64"
      ]
     },
     "execution_count": 74,
     "metadata": {},
     "output_type": "execute_result"
    }
   ],
   "source": [
    "class1['AtSymbol'].describe()\n",
    "#It looks like the existence of an at symbol, while still rare, is a red flag to describe a phishing website."
   ]
  },
  {
   "cell_type": "code",
   "execution_count": 72,
   "metadata": {},
   "outputs": [
    {
     "data": {
      "text/plain": [
       "count    5000.0\n",
       "mean        0.0\n",
       "std         0.0\n",
       "min         0.0\n",
       "25%         0.0\n",
       "50%         0.0\n",
       "75%         0.0\n",
       "max         0.0\n",
       "Name: AtSymbol, dtype: float64"
      ]
     },
     "execution_count": 72,
     "metadata": {},
     "output_type": "execute_result"
    }
   ],
   "source": [
    "class2['AtSymbol'].describe()\n",
    "#It seems like in 5,000 instances of legitimate websites, an at symbol is never included. The boolean values in this set\n",
    "#can likely be used similarly - as pure red flags, or just as things that infrequently happen together or alone\n",
    "#within a legitimate website."
   ]
  },
  {
   "cell_type": "code",
   "execution_count": 140,
   "metadata": {},
   "outputs": [
    {
     "name": "stdout",
     "output_type": "stream",
     "text": [
      "0    9997\n",
      "1       3\n",
      "Name: AtSymbol, dtype: int64\n",
      "AtSymbol  is boolean\n",
      "TildeSymbol  is boolean\n",
      "NumHash  is boolean\n",
      "NoHttps  is boolean\n",
      "RandomString  is boolean\n",
      "IpAddress  is boolean\n",
      "DomainInSubdomains  is boolean\n",
      "DomainInPaths  is boolean\n",
      "DoubleSlashInPath  is boolean\n",
      "EmbeddedBrandName  is boolean\n",
      "ExtFavicon  is boolean\n",
      "InsecureForms  is boolean\n",
      "RelativeFormAction  is boolean\n",
      "ExtFormAction  is boolean\n",
      "AbnormalFormAction  is boolean\n",
      "FrequentDomainNameMismatch  is boolean\n",
      "FakeLinkInStatusBar  is boolean\n",
      "RightClickDisabled  is boolean\n",
      "PopUpWindow  is boolean\n",
      "SubmitInfoToEmail  is boolean\n",
      "IframeOrFrame  is boolean\n",
      "MissingTitle  is boolean\n",
      "ImagesOnlyInForm  is boolean\n",
      "CLASS_LABEL  is boolean\n",
      "      AtSymbol  TildeSymbol  NumHash  NoHttps  RandomString  IpAddress  \\\n",
      "0            0            0        0        1             0          0   \n",
      "1            0            0        0        1             0          0   \n",
      "2            0            0        0        1             0          0   \n",
      "3            0            0        0        1             0          0   \n",
      "4            0            0        0        1             1          0   \n",
      "...        ...          ...      ...      ...           ...        ...   \n",
      "9995         0            0        0        1             0          0   \n",
      "9996         0            0        0        1             1          0   \n",
      "9997         0            0        0        1             1          0   \n",
      "9998         0            0        0        1             0          0   \n",
      "9999         0            0        0        1             0          0   \n",
      "\n",
      "      DomainInSubdomains  DomainInPaths  DoubleSlashInPath  EmbeddedBrandName  \\\n",
      "0                      0              0                  0                  0   \n",
      "1                      0              0                  0                  0   \n",
      "2                      0              0                  0                  0   \n",
      "3                      0              1                  0                  1   \n",
      "4                      0              1                  0                  0   \n",
      "...                  ...            ...                ...                ...   \n",
      "9995                   0              0                  0                  0   \n",
      "9996                   0              1                  0                  0   \n",
      "9997                   0              0                  0                  0   \n",
      "9998                   0              0                  0                  0   \n",
      "9999                   0              1                  0                  0   \n",
      "\n",
      "      ...  AbnormalFormAction  FrequentDomainNameMismatch  \\\n",
      "0     ...                   0                           0   \n",
      "1     ...                   0                           0   \n",
      "2     ...                   0                           0   \n",
      "3     ...                   0                           1   \n",
      "4     ...                   0                           1   \n",
      "...   ...                 ...                         ...   \n",
      "9995  ...                   0                           0   \n",
      "9996  ...                   0                           0   \n",
      "9997  ...                   0                           0   \n",
      "9998  ...                   0                           0   \n",
      "9999  ...                   0                           0   \n",
      "\n",
      "      FakeLinkInStatusBar  RightClickDisabled  PopUpWindow  SubmitInfoToEmail  \\\n",
      "0                       0                   0            0                  0   \n",
      "1                       0                   0            0                  0   \n",
      "2                       0                   0            0                  0   \n",
      "3                       0                   0            0                  1   \n",
      "4                       0                   0            0                  0   \n",
      "...                   ...                 ...          ...                ...   \n",
      "9995                    0                   0            0                  0   \n",
      "9996                    0                   0            0                  0   \n",
      "9997                    0                   0            0                  0   \n",
      "9998                    0                   0            0                  0   \n",
      "9999                    0                   0            0                  0   \n",
      "\n",
      "      IframeOrFrame  MissingTitle  ImagesOnlyInForm  CLASS_LABEL  \n",
      "0                 0             0                 1            1  \n",
      "1                 0             0                 0            1  \n",
      "2                 0             0                 0            1  \n",
      "3                 0             0                 0            1  \n",
      "4                 1             0                 0            1  \n",
      "...             ...           ...               ...          ...  \n",
      "9995              0             0                 0            0  \n",
      "9996              1             0                 0            0  \n",
      "9997              0             0                 0            0  \n",
      "9998              1             0                 0            0  \n",
      "9999              0             0                 0            0  \n",
      "\n",
      "[10000 rows x 24 columns]\n"
     ]
    }
   ],
   "source": [
    "data_count = data['AtSymbol'].value_counts()\n",
    "print(data_count)\n",
    "boolean_list = []\n",
    "for i in labels:\n",
    "    if len(data[i].value_counts()) == 2:\n",
    "        print(i, \" is boolean\")\n",
    "        boolean_list.append(i)\n",
    "boolean_df = data[boolean_list]\n",
    "print(boolean_df)\n",
    "#The above shows me which columns only contain two possible values, indicating tentatively that\n",
    "#they represent boolean expressions - this seems to track with the names of the columns, with the\n",
    "#possible exception of 'NumHash' which, I thought meant number of hashes - it's possible there are just\n",
    "#only two recorded responses."
   ]
  },
  {
   "cell_type": "code",
   "execution_count": 141,
   "metadata": {},
   "outputs": [
    {
     "name": "stdout",
     "output_type": "stream",
     "text": [
      "count    10000.000000\n",
      "mean         0.241334\n",
      "std          0.342370\n",
      "min          0.000000\n",
      "25%          0.000000\n",
      "50%          0.071429\n",
      "75%          0.315874\n",
      "max          1.000000\n",
      "Name: PctExtHyperlinks, dtype: float64\n",
      "1.0\n"
     ]
    }
   ],
   "source": [
    "print(data['PctExtHyperlinks'].describe())\n",
    "print(data['PctExtResourceUrls'].max())\n",
    "#Getting an idea of the range of values contained in a 'pct' column"
   ]
  },
  {
   "cell_type": "code",
   "execution_count": 142,
   "metadata": {},
   "outputs": [
    {
     "name": "stdout",
     "output_type": "stream",
     "text": [
      "id  has more than 10 unique values\n",
      "NumDots  has more than 10 unique values\n",
      "SubdomainLevel  has more than 10 unique values\n",
      "PathLevel  has more than 10 unique values\n",
      "UrlLength  has more than 10 unique values\n",
      "NumDash  has more than 10 unique values\n",
      "NumUnderscore  has more than 10 unique values\n",
      "NumPercent  has more than 10 unique values\n",
      "NumQueryComponents  has more than 10 unique values\n",
      "NumAmpersand  has more than 10 unique values\n",
      "NumNumericChars  has more than 10 unique values\n",
      "HostnameLength  has more than 10 unique values\n",
      "PathLength  has more than 10 unique values\n",
      "QueryLength  has more than 10 unique values\n",
      "PctExtHyperlinks  has more than 10 unique values\n",
      "PctExtResourceUrls  has more than 10 unique values\n",
      "PctNullSelfRedirectHyperlinks  has more than 10 unique values\n",
      "         id  NumDots  SubdomainLevel  PathLevel  UrlLength  NumDash  \\\n",
      "0         1        3               1          5         72        0   \n",
      "1         2        3               1          3        144        0   \n",
      "2         3        3               1          2         58        0   \n",
      "3         4        3               1          6         79        1   \n",
      "4         5        3               0          4         46        0   \n",
      "...     ...      ...             ...        ...        ...      ...   \n",
      "9995   9996        3               1          1         50        0   \n",
      "9996   9997        2               1          4         59        1   \n",
      "9997   9998        2               1          4         57        0   \n",
      "9998   9999        3               1          1         49        0   \n",
      "9999  10000        3               1          2         52        3   \n",
      "\n",
      "      NumUnderscore  NumPercent  NumQueryComponents  NumAmpersand  \\\n",
      "0                 0           0                   0             0   \n",
      "1                 2           0                   2             1   \n",
      "2                 0           0                   0             0   \n",
      "3                 0           0                   0             0   \n",
      "4                 0           0                   0             0   \n",
      "...             ...         ...                 ...           ...   \n",
      "9995              0           0                   2             1   \n",
      "9996              0           0                   0             0   \n",
      "9997              0           0                   0             0   \n",
      "9998              0           0                   1             0   \n",
      "9999              0           0                   0             0   \n",
      "\n",
      "      NumNumericChars  HostnameLength  PathLength  QueryLength  \\\n",
      "0                   0              21          44            0   \n",
      "1                  41              17          16          103   \n",
      "2                   0              27          24            0   \n",
      "3                   0              22          50            0   \n",
      "4                   2              10          29            0   \n",
      "...               ...             ...         ...          ...   \n",
      "9995                9              15          10           17   \n",
      "9996                0              19          33            0   \n",
      "9997                6              16          34            0   \n",
      "9998                3              15          13           13   \n",
      "9999                0              10          35            0   \n",
      "\n",
      "      PctExtHyperlinks  PctExtResourceUrls  PctNullSelfRedirectHyperlinks  \n",
      "0             0.000000            0.250000                       0.000000  \n",
      "1             0.000000            0.000000                       0.000000  \n",
      "2             0.375000            1.000000                       0.000000  \n",
      "3             1.000000            0.095238                       0.000000  \n",
      "4             1.000000            1.000000                       0.000000  \n",
      "...                ...                 ...                            ...  \n",
      "9995          0.096774            0.757143                       0.000000  \n",
      "9996          0.161290            0.275862                       0.129032  \n",
      "9997          0.070423            0.500000                       0.056338  \n",
      "9998          0.166667            0.428571                       0.000000  \n",
      "9999          0.089623            0.042553                       0.004717  \n",
      "\n",
      "[10000 rows x 17 columns]\n"
     ]
    }
   ],
   "source": [
    "unique_list = []\n",
    "for i in labels:\n",
    "    if len(data[i].unique()) > 10:\n",
    "        print(i, \" has more than 10 unique values\")\n",
    "        unique_list.append(i)\n",
    "unique_df = data[unique_list]\n",
    "print(unique_df)\n",
    "#This creates a dataframe containing columns with at least 10 unique values, since so many of the columns \n",
    "#are booleans or contain very few unique values.\n",
    "#Note: I believe some columns are still not contained in either the unique_list or the boolean_list"
   ]
  },
  {
   "cell_type": "code",
   "execution_count": 145,
   "metadata": {},
   "outputs": [
    {
     "name": "stdout",
     "output_type": "stream",
     "text": [
      "[ 1 -1  0]\n",
      "[ 1  0 -1]\n"
     ]
    }
   ],
   "source": [
    "print(data['PctExtResourceUrlsRT'].unique())\n",
    "print(data['PctExtNullSelfRedirectHyperlinksRT'].unique())\n",
    "#It seems that the 'Pct' columns which are not floats contain only these three results:"
   ]
  },
  {
   "cell_type": "code",
   "execution_count": 147,
   "metadata": {},
   "outputs": [
    {
     "name": "stdout",
     "output_type": "stream",
     "text": [
      "1311\n"
     ]
    }
   ],
   "source": [
    "#Meanwhile the other 'Pct' contain many unique values - I'm thus not sure what to make of the non-float columns.\n",
    "print(len(data['PctNullSelfRedirectHyperlinks'].unique()))"
   ]
  },
  {
   "cell_type": "code",
   "execution_count": null,
   "metadata": {},
   "outputs": [],
   "source": [
    "#I might have to drop these int 'Pct's barring an explanation being found - \n",
    "#From a reading of the column names, I had assumed they would represent percentages but am now unsure how to interpret."
   ]
  }
 ],
 "metadata": {
  "kernelspec": {
   "display_name": "Python 3",
   "language": "python",
   "name": "python3"
  },
  "language_info": {
   "codemirror_mode": {
    "name": "ipython",
    "version": 3
   },
   "file_extension": ".py",
   "mimetype": "text/x-python",
   "name": "python",
   "nbconvert_exporter": "python",
   "pygments_lexer": "ipython3",
   "version": "3.8.5"
  }
 },
 "nbformat": 4,
 "nbformat_minor": 4
}
